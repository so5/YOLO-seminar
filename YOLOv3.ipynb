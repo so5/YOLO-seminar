{
  "nbformat": 4,
  "nbformat_minor": 0,
  "metadata": {
    "colab": {
      "name": "YOLOv3.ipynb",
      "provenance": [],
      "private_outputs": true,
      "include_colab_link": true
    },
    "kernelspec": {
      "name": "python3",
      "display_name": "Python 3"
    },
    "language_info": {
      "name": "python"
    }
  },
  "cells": [
    {
      "cell_type": "markdown",
      "metadata": {
        "id": "view-in-github",
        "colab_type": "text"
      },
      "source": [
        "<a href=\"https://colab.research.google.com/github/so5/YOLO-seminar/blob/main/YOLOv3.ipynb\" target=\"_parent\"><img src=\"https://colab.research.google.com/assets/colab-badge.svg\" alt=\"Open In Colab\"/></a>"
      ]
    },
    {
      "cell_type": "markdown",
      "source": [
        "このnotebookは [公式webサイト](https://pjreddie.com/darknet/yolo/) の \"Detection Using A Pre-Trained Model\" セクションに書かれている内容を順にgoogle colab上で実行するものです。\n",
        "\n",
        "\n",
        "---\n",
        "\n"
      ],
      "metadata": {
        "id": "LG9QkWQkNzEj"
      }
    },
    {
      "cell_type": "markdown",
      "source": [
        "#事前準備\n",
        "\n",
        "これ以降の手順を実行するには、次のツール、ライブラリが必要になります。\n",
        "- git\n",
        "- GNU make\n",
        "- Cコンパイラ(gcc等)\n",
        "- OpenCV\n",
        "- wget\n",
        "\n",
        "google colabの場合、`wget`以外はインストール済なので`wget`のみをインストールします。"
      ],
      "metadata": {
        "id": "O9oqOBgNPTv2"
      }
    },
    {
      "cell_type": "code",
      "source": [
        "!apt update && apt install wget"
      ],
      "metadata": {
        "id": "MIRkIBk-RXC6"
      },
      "execution_count": null,
      "outputs": []
    },
    {
      "cell_type": "markdown",
      "source": [
        "# darknetのビルド\n",
        "darknetはC言語で書かれたプログラムなので、pythonなどのプログラムとは違い\n",
        "ソースコードから実行ファイルをビルドする必要があります。"
      ],
      "metadata": {
        "id": "ZFEuiEPi0ppu"
      }
    },
    {
      "cell_type": "code",
      "execution_count": null,
      "metadata": {
        "id": "a_S6W0RqNvhg"
      },
      "outputs": [],
      "source": [
        "!git clone https://github.com/pjreddie/darknet "
      ]
    },
    {
      "cell_type": "code",
      "source": [
        "cd darknet"
      ],
      "metadata": {
        "id": "idwjcjKYQZys"
      },
      "execution_count": null,
      "outputs": []
    },
    {
      "cell_type": "code",
      "source": [
        "!make OPENCV=1 all"
      ],
      "metadata": {
        "id": "4fXubyEFOpp7"
      },
      "execution_count": null,
      "outputs": []
    },
    {
      "cell_type": "markdown",
      "source": [
        "#成果物の確認\n",
        "\n",
        "正常にビルドが終了していれば、`darknet` という実行ファイルが生成されています。\n",
        "また、`cfg` ディレクトリの中には複数の機械学習モデルの設定ファイルが入っているので確認してみましょう。\n"
      ],
      "metadata": {
        "id": "oJ9OtLdQ0nVW"
      }
    },
    {
      "cell_type": "code",
      "source": [
        "ls -l darknet"
      ],
      "metadata": {
        "id": "Z_gaT4vC01c_"
      },
      "execution_count": null,
      "outputs": []
    },
    {
      "cell_type": "code",
      "source": [
        "ls cfg"
      ],
      "metadata": {
        "id": "BxrXOrDt14jW"
      },
      "execution_count": null,
      "outputs": []
    },
    {
      "cell_type": "code",
      "source": [
        "cat cfg/yolov3.cfg"
      ],
      "metadata": {
        "id": "s7a7-B1x16Z3"
      },
      "execution_count": null,
      "outputs": []
    },
    {
      "cell_type": "markdown",
      "source": [
        "#学習済データを使って物体検出\n",
        "\n",
        "yolov3を様々なデータで学習した成果(weightsファイル)が公開されているので、これをダウンロードしてきて、dataディレクトリ以下にある画像ファイル内の物体検知をしましょう。\n",
        "\n",
        "学習済みデータをダウンロードします\n"
      ],
      "metadata": {
        "id": "_EonQ9oSQjUn"
      }
    },
    {
      "cell_type": "code",
      "source": [
        "!wget https://pjreddie.com/media/files/yolov3.weights"
      ],
      "metadata": {
        "id": "E1LyX6CLPP5x"
      },
      "execution_count": null,
      "outputs": []
    },
    {
      "cell_type": "markdown",
      "source": [
        "ダウンロードしてきた学習済データを使って、`data/dog.jpg`に映っている物体の検出を行ないます"
      ],
      "metadata": {
        "id": "Iz41iFa6Dfwt"
      }
    },
    {
      "cell_type": "code",
      "source": [
        "!./darknet detect cfg/yolov3.cfg yolov3.weights data/dog.jpg"
      ],
      "metadata": {
        "id": "jcKRHn8zQs2I"
      },
      "execution_count": null,
      "outputs": []
    },
    {
      "cell_type": "markdown",
      "source": [
        "結果は`predictinos.jpg`というファイルに出力されるので表示します"
      ],
      "metadata": {
        "id": "vlHjGaiaDoS5"
      }
    },
    {
      "cell_type": "code",
      "source": [
        "from IPython.display import Image\n",
        "display(Image('predictions.jpg'))"
      ],
      "metadata": {
        "id": "_W8MS2JkDSmN"
      },
      "execution_count": null,
      "outputs": []
    },
    {
      "cell_type": "markdown",
      "source": [
        "# 別のファイルでも試してみる\n",
        "\n",
        "dataディレクトリの下にdog.jpg以外にも複数の画像ファイルが用意されているので\n",
        "`dog.jpg`の部分を色々と置き換えて試してみましょう!\n",
        "- data/dog.jpg\n",
        "-    data/giraffe.jpg\n",
        "-  data/kite.jpg\n",
        "-    data/scream.jpg\n",
        "- data/eagle.jpg \n",
        "- data/horses.jpg\n",
        "-   data/person.jpg\n",
        "\n"
      ],
      "metadata": {
        "id": "pxS_6IFZFdNl"
      }
    },
    {
      "cell_type": "code",
      "source": [
        "! ./darknet detect cfg/yolov3.cfg yolov3.weights  data/giraffe.jpg"
      ],
      "metadata": {
        "id": "C0ZAAWQXEF58"
      },
      "execution_count": null,
      "outputs": []
    },
    {
      "cell_type": "code",
      "source": [
        "display(Image('predictions.jpg'))"
      ],
      "metadata": {
        "id": "XCQRof09IMyK"
      },
      "execution_count": null,
      "outputs": []
    }
  ]
}