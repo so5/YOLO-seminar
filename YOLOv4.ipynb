{
  "nbformat": 4,
  "nbformat_minor": 0,
  "metadata": {
    "colab": {
      "name": "YOLOv4.ipynb",
      "provenance": [],
      "private_outputs": true,
      "mount_file_id": "1GaTWJGtckyAzL4ezLRfRU01M_zfHijZM",
      "authorship_tag": "ABX9TyM0HsSoq6hVn8hft6JqRBEK",
      "include_colab_link": true
    },
    "kernelspec": {
      "name": "python3",
      "display_name": "Python 3"
    },
    "language_info": {
      "name": "python"
    },
    "accelerator": "GPU"
  },
  "cells": [
    {
      "cell_type": "markdown",
      "metadata": {
        "id": "view-in-github",
        "colab_type": "text"
      },
      "source": [
        "<a href=\"https://colab.research.google.com/github/so5/YOLO-seminar/blob/main/YOLOv4.ipynb\" target=\"_parent\"><img src=\"https://colab.research.google.com/assets/colab-badge.svg\" alt=\"Open In Colab\"/></a>"
      ]
    },
    {
      "cell_type": "markdown",
      "source": [
        "このnotebookは [公式webサイト](https://pjreddie.com/darknet/yolo/) の \"Detection Using A Pre-Trained Model\" セクションに書かれている内容をYOLOv4を使って実行するものです\n",
        "\n",
        "---\n",
        "\n"
      ],
      "metadata": {
        "id": "LG9QkWQkNzEj"
      }
    },
    {
      "cell_type": "markdown",
      "source": [
        "#事前準備\n",
        "\n",
        "これ以降の手順を実行するには、次のツール、ライブラリが必要になります。また、GPUインスタンスを使うため、ランタイムのタイプをGPUに変更してください。\n",
        "\n",
        "- git\n",
        "- cmake (version 3.18以降)\n",
        "- GNU make\n",
        "- Cコンパイラ(gcc等)\n",
        "- OpenCV (version 2.4以降)\n",
        "- wget\n",
        "- CUDA (version 10.2以降)\n",
        "- cuDNN (version 8.02以降)\n",
        "- GPU with CC (version 3.0以降)\n",
        "\n",
        "\n",
        "google colabの場合、GPUインスタンスにすると全てインストール済なのでインストール作業は不要です。"
      ],
      "metadata": {
        "id": "O9oqOBgNPTv2"
      }
    },
    {
      "cell_type": "markdown",
      "source": [
        "# darknetのビルド\n",
        "darknetはC言語で書かれたプログラムなので、pythonなどのプログラムとは違い\n",
        "ソースコードから実行ファイルをビルドする必要があります。"
      ],
      "metadata": {
        "id": "ZFEuiEPi0ppu"
      }
    },
    {
      "cell_type": "code",
      "execution_count": null,
      "metadata": {
        "id": "a_S6W0RqNvhg"
      },
      "outputs": [],
      "source": [
        "!git clone https://github.com/AlexeyAB/darknet.git"
      ]
    },
    {
      "cell_type": "code",
      "source": [
        "cd darknet"
      ],
      "metadata": {
        "id": "idwjcjKYQZys"
      },
      "execution_count": null,
      "outputs": []
    },
    {
      "cell_type": "code",
      "source": [
        "mkdir build_release"
      ],
      "metadata": {
        "id": "4fXubyEFOpp7"
      },
      "execution_count": null,
      "outputs": []
    },
    {
      "cell_type": "code",
      "source": [
        "cd build_release"
      ],
      "metadata": {
        "id": "gwQ4lLveDwxj"
      },
      "execution_count": null,
      "outputs": []
    },
    {
      "cell_type": "code",
      "source": [
        "pwd"
      ],
      "metadata": {
        "id": "kM_4HVfCDxQK"
      },
      "execution_count": null,
      "outputs": []
    },
    {
      "cell_type": "code",
      "source": [
        "!cmake .."
      ],
      "metadata": {
        "id": "JyCajCZvD5KT"
      },
      "execution_count": null,
      "outputs": []
    },
    {
      "cell_type": "code",
      "source": [
        "!cmake --build . --target install"
      ],
      "metadata": {
        "id": "QpMqeRw7D5lZ"
      },
      "execution_count": null,
      "outputs": []
    },
    {
      "cell_type": "markdown",
      "source": [
        "#成果物の確認\n",
        "\n",
        "正常にビルドが終了していれば、cloneしてきたディレクトリの一番上に`darknet` という実行ファイルが生成されています。\n",
        "また、`cfg` ディレクトリの中には複数の機械学習モデルの設定ファイルが入っているので確認してみましょう。\n"
      ],
      "metadata": {
        "id": "oJ9OtLdQ0nVW"
      }
    },
    {
      "cell_type": "code",
      "source": [
        "cd /content/darknet"
      ],
      "metadata": {
        "id": "Z_gaT4vC01c_"
      },
      "execution_count": null,
      "outputs": []
    },
    {
      "cell_type": "code",
      "source": [
        "ls -l darknet"
      ],
      "metadata": {
        "id": "-5TcX-R_KTlO"
      },
      "execution_count": null,
      "outputs": []
    },
    {
      "cell_type": "code",
      "source": [
        "ls  cfg/ cfg/yolov1/"
      ],
      "metadata": {
        "id": "BxrXOrDt14jW"
      },
      "execution_count": null,
      "outputs": []
    },
    {
      "cell_type": "code",
      "source": [
        "cat cfg/yolov1/tiny-yolo.cfg"
      ],
      "metadata": {
        "id": "s7a7-B1x16Z3"
      },
      "execution_count": null,
      "outputs": []
    },
    {
      "cell_type": "markdown",
      "source": [
        "#学習済データを使って物体検出\n",
        "\n",
        "様々なデータで学習した成果(weightsファイル)が公開されているので、これをダウンロードしてきて、dataディレクトリ以下にある画像ファイル内の物体検知をしましょう。\n",
        "\n",
        "学習済みデータをダウンロードします\n"
      ],
      "metadata": {
        "id": "_EonQ9oSQjUn"
      }
    },
    {
      "cell_type": "code",
      "source": [
        "!wget https://github.com/AlexeyAB/darknet/releases/download/darknet_yolo_v3_optimal/yolov4.weights"
      ],
      "metadata": {
        "id": "E1LyX6CLPP5x"
      },
      "execution_count": null,
      "outputs": []
    },
    {
      "cell_type": "markdown",
      "source": [
        "ダウンロードしてきた学習済データを使って、`data/dog.jpg`に映っている物体の検出を行ないます"
      ],
      "metadata": {
        "id": "Iz41iFa6Dfwt"
      }
    },
    {
      "cell_type": "code",
      "source": [
        "!./darknet detector test ./cfg/coco.data ./cfg/yolov4.cfg ./yolov4.weights data/dog.jpg -i 0 -thresh 0.25 -dont_show"
      ],
      "metadata": {
        "id": "jcKRHn8zQs2I"
      },
      "execution_count": null,
      "outputs": []
    },
    {
      "cell_type": "markdown",
      "source": [
        "結果は`predictinos.jpg`というファイルに出力されるので表示します"
      ],
      "metadata": {
        "id": "vlHjGaiaDoS5"
      }
    },
    {
      "cell_type": "code",
      "source": [
        "from IPython.display import Image\n",
        "display(Image('predictions.jpg'))"
      ],
      "metadata": {
        "id": "_W8MS2JkDSmN"
      },
      "execution_count": null,
      "outputs": []
    },
    {
      "cell_type": "markdown",
      "source": [
        "# 別のファイルでも試してみる\n",
        "\n",
        "dataディレクトリの下にdog.jpg以外にも複数の画像ファイルが用意されているので\n",
        "`dog.jpg`の部分を色々と置き換えて試してみましょう!\n",
        "- data/dog.jpg\n",
        "-    data/giraffe.jpg\n",
        "-  data/kite.jpg\n",
        "-    data/scream.jpg\n",
        "- data/eagle.jpg \n",
        "- data/horses.jpg\n",
        "-   data/person.jpg\n",
        "\n"
      ],
      "metadata": {
        "id": "pxS_6IFZFdNl"
      }
    },
    {
      "cell_type": "code",
      "source": [
        "!./darknet detector test ./cfg/coco.data ./cfg/yolov4.cfg ./yolov4.weights data/giraffe.jpg -i 0 -thresh 0.25 -dont_show "
      ],
      "metadata": {
        "id": "C0ZAAWQXEF58"
      },
      "execution_count": null,
      "outputs": []
    },
    {
      "cell_type": "code",
      "source": [
        "display(Image('predictions.jpg'))"
      ],
      "metadata": {
        "id": "XCQRof09IMyK"
      },
      "execution_count": null,
      "outputs": []
    },
    {
      "cell_type": "markdown",
      "source": [
        "比較のためにYOLO v3用のweightsファイルもダウンロードしてきてdata/dog.jpgの検出結果を比較してみましょう。\n",
        "\n",
        "トラックの右にある四角の鉢植え(potted plants?)がv4では検出できているのに対して、v3では検出できていないことが分かります。"
      ],
      "metadata": {
        "id": "HyhuKab9NOkE"
      }
    },
    {
      "cell_type": "code",
      "source": [
        "!wget https://pjreddie.com/media/files/yolov3.weights"
      ],
      "metadata": {
        "id": "hEyUU0xVNb-L"
      },
      "execution_count": null,
      "outputs": []
    },
    {
      "cell_type": "code",
      "source": [
        "!./darknet detector test ./cfg/coco.data ./cfg/yolov3.cfg ./yolov3.weights data/dog.jpg -i 0 -thresh 0.25  -dont_show"
      ],
      "metadata": {
        "id": "HQ5r2FVZNJ0-"
      },
      "execution_count": null,
      "outputs": []
    },
    {
      "cell_type": "code",
      "source": [
        "display(Image('predictions.jpg'))"
      ],
      "metadata": {
        "id": "pShQeR-1Npvz"
      },
      "execution_count": null,
      "outputs": []
    },
    {
      "cell_type": "markdown",
      "source": [
        "#動画内の物体検知\n"
      ],
      "metadata": {
        "id": "nIKZJ-OXbQMp"
      }
    },
    {
      "cell_type": "code",
      "source": [
        "!wget https://www9.nhk.or.jp/das/movie/D0002161/D0002161258_00000_V_000.mp4"
      ],
      "metadata": {
        "id": "ptJa5Ed2SRuB"
      },
      "execution_count": null,
      "outputs": []
    },
    {
      "cell_type": "code",
      "source": [
        "!./darknet detector demo ./cfg/coco.data ./cfg/yolov4.cfg ./yolov4.weights D0002161258_00000_V_000.mp4 -i 0 -thresh 0.25 -dont_show -out_filename predictions.mp4 "
      ],
      "metadata": {
        "id": "xye78TjDIUCc"
      },
      "execution_count": null,
      "outputs": []
    },
    {
      "cell_type": "code",
      "source": [
        "ls -l predictions.mp4"
      ],
      "metadata": {
        "id": "Hw_PPCdndLJq"
      },
      "execution_count": null,
      "outputs": []
    }
  ]
}